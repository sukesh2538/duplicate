{
 "cells": [
  {
   "cell_type": "markdown",
   "metadata": {},
   "source": [
    "# TASK TWO: OPERATORS AND DECISION MAKING STATEMENT"
   ]
  },
  {
   "cell_type": "markdown",
   "metadata": {},
   "source": [
    "### 1.\tWrite a program in Python to perform the following operation:\n",
    "##### ●\tIf a number is divisible by 3 it should print “Consultadd” as a string\n",
    "##### ●\tIf a number is divisible by 5 it should print “c” as a string\n",
    "##### ●\tIf a number is divisible by both 3 and 5 it should print “Consultadd Python Training” as a string.\n"
   ]
  },
  {
   "cell_type": "code",
   "execution_count": 2,
   "metadata": {},
   "outputs": [
    {
     "name": "stdin",
     "output_type": "stream",
     "text": [
      "Enter the number:  3\n"
     ]
    },
    {
     "name": "stdout",
     "output_type": "stream",
     "text": [
      "Consultadd\n"
     ]
    }
   ],
   "source": [
    "a = int(input(\"Enter the number: \"))\n",
    "if a % 3 == 0 and a % 5 == 0:\n",
    "    print(\"Consultadd  Python Training\")\n",
    "elif a % 3 == 0:\n",
    "    print(\"Consultadd\")\n",
    "elif a % 5 == 0:\n",
    "    print(\"c\")"
   ]
  },
  {
   "cell_type": "markdown",
   "metadata": {},
   "source": [
    "### 2. \tWrite a program in Python to perform the following operator based task:\n",
    "##### ●\tAsk user to choose the following option first:\n",
    "##### ○\tIf User Enter 1 - Addition \n",
    "##### ○\tIf User Enter 2 - Subtraction\n",
    "##### ○\tIf User Enter 3 - Division\n",
    "##### ○\tIf User Enter 4 - Multiplication\n",
    "##### ○\tIf User Enter 5 - Average\n"
   ]
  },
  {
   "cell_type": "code",
   "execution_count": 4,
   "metadata": {},
   "outputs": [
    {
     "name": "stdout",
     "output_type": "stream",
     "text": [
      "Operations to select: 1 - Addition, 2 - Subtraction, 3 - Division, 4 - Multiplication, 5 - Average\n"
     ]
    },
    {
     "name": "stdin",
     "output_type": "stream",
     "text": [
      "Choose an option(1/2/3/4/5):  1\n",
      "Enter first number:  3\n",
      "Enter second number:  4\n"
     ]
    },
    {
     "name": "stdout",
     "output_type": "stream",
     "text": [
      "3.0 + 4.0 = 7.0\n"
     ]
    }
   ],
   "source": [
    "def addition(x, y):\n",
    "    return x + y\n",
    "def subtraction(x, y):\n",
    "    return x - y\n",
    "def division(x, y):\n",
    "    return x / y\n",
    "def multiplication(x, y):\n",
    "    return x * y\n",
    "def average(x, y):\n",
    "    return ((x + y) / 2)\n",
    "\n",
    "print(\"Operations to select: 1 - Addition, 2 - Subtraction, 3 - Division, 4 - Multiplication, 5 - Average\")\n",
    "\n",
    "while True:\n",
    "    select = input(\"Choose an option(1/2/3/4/5): \")\n",
    "    if select in ('1', '2', '3', '4', '5'):\n",
    "        num1 = float(input(\"Enter first number: \"))\n",
    "        num2 = float(input(\"Enter second number: \"))\n",
    "        if select == '1':\n",
    "            print(num1, \"+\", num2, \"=\", addition(num1, num2))\n",
    "        elif select == '2':\n",
    "            print(num1, \"-\", num2, \"=\", subtraction(num1, num2))\n",
    "        elif select == '3':\n",
    "            print(num1, \"/\", num2, \"=\", division(num1, num2))\n",
    "        elif select == '4':\n",
    "            print(num1, \"*\", num2, \"=\", multiplication(num1, num2))\n",
    "        elif select == '5':\n",
    "            print(\"ave of\", num1, \"&\", num2, \"=\", average(num1, num2))\n",
    "        break\n",
    "    else:\n",
    "        print(\"Invalid Input\")\n",
    "#     if addition(num1, num2)>0 or subtraction(num1, num2) or division(num1, num2)>0 or multiplication(num1, num2)>0 or average(num1, num2)>0:\n",
    "#         print('Result is Positive')\n",
    "#     else:\n",
    "#         print('Result is Negative')"
   ]
  },
  {
   "cell_type": "markdown",
   "metadata": {},
   "source": [
    "### 3. Write a program in Python to implement the given flowchart:\n"
   ]
  },
  {
   "cell_type": "code",
   "execution_count": 5,
   "metadata": {},
   "outputs": [
    {
     "name": "stdout",
     "output_type": "stream",
     "text": [
      "avg = 20.0\n",
      "avg is just higher than a\n"
     ]
    }
   ],
   "source": [
    "a,b,c = 10,20,30\n",
    "avg = (a+b+c)/3\n",
    "print(\"avg =\", avg)\n",
    "if avg>a and avg>b and avg>c:\n",
    "    print('avg is higher than a,b,c')\n",
    "elif avg>a and avg>b:\n",
    "    print('avg is higher than a,b')\n",
    "elif avg>a and avg>c:\n",
    "    print('avg is higher than a,c')\n",
    "elif avg>b and avg>c:\n",
    "    print('avg is higher than b,c')\n",
    "elif avg>a:\n",
    "    print('avg is just higher than a')\n",
    "elif avg>b:\n",
    "    print('avg is just higher than b')\n",
    "elif avg>c:\n",
    "    print('avg is just higher than c')"
   ]
  },
  {
   "cell_type": "markdown",
   "metadata": {},
   "source": [
    "### 4. \tWrite a program in Python to break and continue if the following cases occurs:\n",
    "##### ●\tIf user enters a negative number just break the loop and print “It’s Over”\n",
    "##### ●\tIf user enters a positive number just continue in the loop and print “Good Going”\n"
   ]
  },
  {
   "cell_type": "code",
   "execution_count": 6,
   "metadata": {},
   "outputs": [
    {
     "name": "stdin",
     "output_type": "stream",
     "text": [
      "Enter the number: 2\n"
     ]
    },
    {
     "name": "stdout",
     "output_type": "stream",
     "text": [
      "Good Going\n"
     ]
    }
   ],
   "source": [
    "while True:\n",
    "    number = int(input('Enter the number:'))\n",
    "    if number >= 0:\n",
    "        print(\"Good Going\")\n",
    "        break\n",
    "    print(\"It's Over\")"
   ]
  },
  {
   "cell_type": "markdown",
   "metadata": {},
   "source": [
    "### 5. Write a program in Python which will find all such numbers which are divisible  by 7 but are not a multiple of 5, between 2000 and 3200."
   ]
  },
  {
   "cell_type": "code",
   "execution_count": 7,
   "metadata": {},
   "outputs": [
    {
     "name": "stdout",
     "output_type": "stream",
     "text": [
      "2002,2009,2016,2023,2037,2044,2051,2058,2072,2079,2086,2093,2107,2114,2121,2128,2142,2149,2156,2163,2177,2184,2191,2198,2212,2219,2226,2233,2247,2254,2261,2268,2282,2289,2296,2303,2317,2324,2331,2338,2352,2359,2366,2373,2387,2394,2401,2408,2422,2429,2436,2443,2457,2464,2471,2478,2492,2499,2506,2513,2527,2534,2541,2548,2562,2569,2576,2583,2597,2604,2611,2618,2632,2639,2646,2653,2667,2674,2681,2688,2702,2709,2716,2723,2737,2744,2751,2758,2772,2779,2786,2793,2807,2814,2821,2828,2842,2849,2856,2863,2877,2884,2891,2898,2912,2919,2926,2933,2947,2954,2961,2968,2982,2989,2996,3003,3017,3024,3031,3038,3052,3059,3066,3073,3087,3094,3101,3108,3122,3129,3136,3143,3157,3164,3171,3178,3192,3199\n"
     ]
    }
   ],
   "source": [
    "Num = []\n",
    "for x in range(2000, 3201):\n",
    "    if (x%7 == 0) and (x%5 != 0):\n",
    "        Num.append(str(x))\n",
    "print (','.join(Num))"
   ]
  },
  {
   "cell_type": "markdown",
   "metadata": {},
   "source": [
    "### 6. What is the output of the following code examples?"
   ]
  },
  {
   "cell_type": "markdown",
   "metadata": {},
   "source": [
    "\n",
    "##### x=123 \n",
    "##### for i in x:\n",
    "#####     print(i)\n",
    "#### Here variable 'x' is an integer value.\n",
    "#### We can not iterate the integer object."
   ]
  },
  {
   "cell_type": "code",
   "execution_count": 8,
   "metadata": {},
   "outputs": [
    {
     "name": "stdout",
     "output_type": "stream",
     "text": [
      "0\n",
      "1\n",
      "2\n"
     ]
    }
   ],
   "source": [
    "i = 0\n",
    "while i < 5:\n",
    "    print(i)\n",
    "    i += 1\n",
    "    if i == 3:\n",
    "        break\n",
    "else:\n",
    "    print(\"error\")\n"
   ]
  },
  {
   "cell_type": "code",
   "execution_count": 9,
   "metadata": {},
   "outputs": [
    {
     "name": "stdout",
     "output_type": "stream",
     "text": [
      "0\n",
      "1\n",
      "2\n",
      "3\n",
      "4\n"
     ]
    }
   ],
   "source": [
    "# count = 0\n",
    "# while True:\n",
    "#     print(count)\n",
    "#     count += 1\n",
    "#     if count >= 5:\n",
    "#         Break\n",
    "# Python inbult commands are case-sensitive\n",
    "count = 0\n",
    "while True:\n",
    "    print(count)\n",
    "    count += 1\n",
    "    if count >= 5:\n",
    "        break\n"
   ]
  },
  {
   "cell_type": "markdown",
   "metadata": {},
   "source": [
    "### 7. Write a program that prints all the numbers from 0 to 6 except 3 and 6.\n",
    "###       Expected output: 0 1 2 4 5\n",
    "### Note: Use ‘continue’ statement\n"
   ]
  },
  {
   "cell_type": "code",
   "execution_count": 10,
   "metadata": {},
   "outputs": [
    {
     "name": "stdout",
     "output_type": "stream",
     "text": [
      "0\n",
      "1\n",
      "2\n",
      "4\n",
      "5\n"
     ]
    }
   ],
   "source": [
    "for i in range(0, 7):\n",
    "    if i == 3 or i == 6: \n",
    "        continue \n",
    "    print(i)"
   ]
  },
  {
   "cell_type": "markdown",
   "metadata": {},
   "source": [
    "### 8.  Write a program that accepts a string as an input from user and calculate the number of digits and letters.\n",
    "#####     Expected output: consul12\n",
    "#####     Letters 6\n",
    "#####     Digits 2\n"
   ]
  },
  {
   "cell_type": "code",
   "execution_count": 11,
   "metadata": {},
   "outputs": [
    {
     "name": "stdin",
     "output_type": "stream",
     "text": [
      "Enter an input:  consul12\n"
     ]
    },
    {
     "name": "stdout",
     "output_type": "stream",
     "text": [
      "No Of Letters:  6\n",
      "No Of Digits:  2\n"
     ]
    }
   ],
   "source": [
    "given = input('Enter an input: ') \n",
    "let = 0 \n",
    "dig = 0\n",
    "for i in given:\n",
    "    if i.isalpha():\n",
    "        let += 1 \n",
    "    elif i.isdigit():\n",
    "        dig += 1 \n",
    "print(\"No Of Letters: \", let) \n",
    "print(\"No Of Digits: \", dig)"
   ]
  },
  {
   "cell_type": "markdown",
   "metadata": {},
   "source": [
    "### 9. Read the two parts of the question below: \n",
    "##### ●\t Write a program such that it asks users to “guess the lucky number”. If the correct number is guessed the program stops, otherwise it continues forever. \n",
    "##### ●\tModify the program so that it asks users whether they want to guess again each time. Use two variables, ‘number’ for the number and ‘answer’ for the answer to the question whether they want to continue guessing. The program stops if the user guesses the correct number or answers “no”. ( The program continues as long as a user has not answered “no” and has not guessed the correct number)\n"
   ]
  },
  {
   "cell_type": "code",
   "execution_count": 12,
   "metadata": {},
   "outputs": [
    {
     "name": "stdin",
     "output_type": "stream",
     "text": [
      "Guess the lucky number:   1\n"
     ]
    },
    {
     "name": "stdout",
     "output_type": "stream",
     "text": [
      "That is not the lucky number\n"
     ]
    },
    {
     "name": "stdin",
     "output_type": "stream",
     "text": [
      "Guess the lucky number:   6\n"
     ]
    },
    {
     "name": "stdout",
     "output_type": "stream",
     "text": [
      "It's a lucky number!\n"
     ]
    }
   ],
   "source": [
    "# answer = 6\n",
    "lucky_number = int(input(\"Guess the lucky number:  \"))\n",
    "while True:\n",
    "    if lucky_number == 6:\n",
    "        print(\"It's a lucky number!\")\n",
    "        break\n",
    "    else:\n",
    "        print(\"That is not the lucky number\")\n",
    "        lucky_number = int(input(\"Guess the lucky number:  \"))"
   ]
  },
  {
   "cell_type": "code",
   "execution_count": 14,
   "metadata": {},
   "outputs": [
    {
     "name": "stdin",
     "output_type": "stream",
     "text": [
      "Guess the lucky number:   1\n"
     ]
    },
    {
     "name": "stdout",
     "output_type": "stream",
     "text": [
      "That is not the lucky number\n"
     ]
    },
    {
     "name": "stdin",
     "output_type": "stream",
     "text": [
      "Do you want to Guess the lucky number again:   yes\n",
      "Guess the lucky number again:  6\n"
     ]
    },
    {
     "name": "stdout",
     "output_type": "stream",
     "text": [
      "It's a lucky number!\n"
     ]
    }
   ],
   "source": [
    "lucky_number = int(input(\"Guess the lucky number:  \"))\n",
    "\n",
    "while True:\n",
    "    if lucky_number == 6:\n",
    "        print(\"It's a lucky number!\")\n",
    "        break\n",
    "    else:\n",
    "        print(\"That is not the lucky number\")\n",
    "        answer = input(\"Do you want to Guess the lucky number again:  \")\n",
    "        if answer != 'no':\n",
    "            lucky_number = int(input(\"Guess the lucky number again: \"))\n",
    "        else:\n",
    "            break"
   ]
  },
  {
   "cell_type": "markdown",
   "metadata": {},
   "source": [
    "### 10. Write a program that asks five times to guess the lucky number. Use a while loop and a counter, such as\n",
    "\t\tcounter=1\n",
    "\t\tWhile counter <= 5:\n",
    "\t\t\tprint(“Type in the”, counter, “number”\n",
    "\t\t\tcounter=counter+1\n",
    "The program asks for five guesses (no matter whether the correct number was guessed or not). If the correct number is guessed, the program outputs “Good guess!”, otherwise it outputs “Try again!”. After the fifth guess it stops and prints “Game over!”.\n"
   ]
  },
  {
   "cell_type": "code",
   "execution_count": 15,
   "metadata": {},
   "outputs": [
    {
     "name": "stdin",
     "output_type": "stream",
     "text": [
      "1: Guess the number:  1\n"
     ]
    },
    {
     "name": "stdout",
     "output_type": "stream",
     "text": [
      "Try again.\n"
     ]
    },
    {
     "name": "stdin",
     "output_type": "stream",
     "text": [
      "2: Guess the number:  2\n"
     ]
    },
    {
     "name": "stdout",
     "output_type": "stream",
     "text": [
      "Try again.\n"
     ]
    },
    {
     "name": "stdin",
     "output_type": "stream",
     "text": [
      "3: Guess the number:  3\n"
     ]
    },
    {
     "name": "stdout",
     "output_type": "stream",
     "text": [
      "Try again.\n"
     ]
    },
    {
     "name": "stdin",
     "output_type": "stream",
     "text": [
      "4: Guess the number:  4\n"
     ]
    },
    {
     "name": "stdout",
     "output_type": "stream",
     "text": [
      "Try again.\n"
     ]
    },
    {
     "name": "stdin",
     "output_type": "stream",
     "text": [
      "5: Guess the number:  5\n"
     ]
    },
    {
     "name": "stdout",
     "output_type": "stream",
     "text": [
      "Try again.\n",
      "Game over\n"
     ]
    }
   ],
   "source": [
    "counter = 1\n",
    "while counter <= 5:\n",
    "    number = input(str(counter) + \": Guess the number: \")\n",
    "    if number != 5:\n",
    "        print(\"Try again.\")\n",
    "    else:\n",
    "        print(\"Good guess!\")\n",
    "    counter = counter +1\n",
    "else:\n",
    "    print(\"Game over\")"
   ]
  },
  {
   "cell_type": "markdown",
   "metadata": {},
   "source": [
    "### 11. In the previous question, insert “break” after the “Good guess!” print statement. “break” will terminate the while loop so that users do not have to continue guessing after they found the number. If the user does not guess the number at all, print “Sorry but that was not very successful”."
   ]
  },
  {
   "cell_type": "code",
   "execution_count": 16,
   "metadata": {},
   "outputs": [
    {
     "name": "stdin",
     "output_type": "stream",
     "text": [
      "1: Guess the number:  1\n"
     ]
    },
    {
     "name": "stdout",
     "output_type": "stream",
     "text": [
      "Try again.\n"
     ]
    },
    {
     "name": "stdin",
     "output_type": "stream",
     "text": [
      "2: Guess the number:  2\n"
     ]
    },
    {
     "name": "stdout",
     "output_type": "stream",
     "text": [
      "Try again.\n"
     ]
    },
    {
     "name": "stdin",
     "output_type": "stream",
     "text": [
      "3: Guess the number:  3\n"
     ]
    },
    {
     "name": "stdout",
     "output_type": "stream",
     "text": [
      "Try again.\n"
     ]
    },
    {
     "name": "stdin",
     "output_type": "stream",
     "text": [
      "4: Guess the number:  4\n"
     ]
    },
    {
     "name": "stdout",
     "output_type": "stream",
     "text": [
      "Try again.\n"
     ]
    },
    {
     "name": "stdin",
     "output_type": "stream",
     "text": [
      "5: Guess the number:  4\n"
     ]
    },
    {
     "name": "stdout",
     "output_type": "stream",
     "text": [
      "Try again.\n",
      "Sorry but that was not very successful\n"
     ]
    }
   ],
   "source": [
    "counter = 1\n",
    "while counter <= 5:\n",
    "    number = input(str(counter) + \": Guess the number: \")\n",
    "    if number != 5:\n",
    "        print(\"Try again.\")\n",
    "    else:\n",
    "        print(\"Good guess!\")\n",
    "        break\n",
    "    counter = counter +1\n",
    "else:\n",
    "    print(\"Sorry but that was not very successful\")"
   ]
  }
 ],
 "metadata": {
  "kernelspec": {
   "display_name": "Python 3",
   "language": "python",
   "name": "python3"
  },
  "language_info": {
   "codemirror_mode": {
    "name": "ipython",
    "version": 3
   },
   "file_extension": ".py",
   "mimetype": "text/x-python",
   "name": "python",
   "nbconvert_exporter": "python",
   "pygments_lexer": "ipython3",
   "version": "3.7.6"
  }
 },
 "nbformat": 4,
 "nbformat_minor": 4
}
