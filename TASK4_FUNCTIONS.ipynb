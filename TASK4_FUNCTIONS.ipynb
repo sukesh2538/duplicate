{
 "cells": [
  {
   "cell_type": "markdown",
   "metadata": {},
   "source": [
    "# TASK FOUR: FUNCTIONS"
   ]
  },
  {
   "cell_type": "markdown",
   "metadata": {},
   "source": [
    "### 1. Write a program to reverse a string.\n",
    "##### Sample data: “1234abcd”\n",
    "##### Expected Output: “dcba4321”"
   ]
  },
  {
   "cell_type": "code",
   "execution_count": 3,
   "metadata": {},
   "outputs": [
    {
     "name": "stdout",
     "output_type": "stream",
     "text": [
      "Enter String:  1234abcd\n",
      "Reversed String:  dcba4321\n"
     ]
    }
   ],
   "source": [
    "def rev_str(x):\n",
    "    print(\"Enter String: \", x)\n",
    "    y = x[::-1]\n",
    "    print(\"Reversed String: \", y)\n",
    "    \n",
    "rev_str('1234abcd')"
   ]
  },
  {
   "cell_type": "markdown",
   "metadata": {},
   "source": [
    "### 2. Write a function that accepts a string and calculate the number of uppercase letters and lowercase letters.\n",
    "#### Expected Output:\n",
    "##### No. of Upper case characters : 3\n",
    "##### No. of Lower case Characters : 12"
   ]
  },
  {
   "cell_type": "code",
   "execution_count": 4,
   "metadata": {},
   "outputs": [
    {
     "name": "stdout",
     "output_type": "stream",
     "text": [
      "Entered String :  CONSULTadd Python Training\n",
      "No. of Upper case letters :  9\n",
      "No. of Lower case letters :  15\n"
     ]
    }
   ],
   "source": [
    "def letter_count(x):\n",
    "    upper_case = 0\n",
    "    lower_case = 0\n",
    "    for i in x:\n",
    "        if i.isupper():\n",
    "            upper_case += 1\n",
    "        elif i.islower():\n",
    "            lower_case += 1\n",
    "        else:\n",
    "            pass\n",
    "    print (\"Entered String : \", x)\n",
    "    print (\"No. of Upper case letters : \", upper_case)\n",
    "    print (\"No. of Lower case letters : \", lower_case)\n",
    "\n",
    "letter_count('CONSULTadd Python Training')"
   ]
  },
  {
   "cell_type": "markdown",
   "metadata": {},
   "source": [
    "### 3. Create a function that takes a list and returns a new list with unique elements of the first list."
   ]
  },
  {
   "cell_type": "code",
   "execution_count": 6,
   "metadata": {},
   "outputs": [
    {
     "name": "stdout",
     "output_type": "stream",
     "text": [
      "Entered list:  [1, 2, 3, 1, 2, 3]\n",
      "New list with Unique elements:  [1, 2, 3]\n"
     ]
    }
   ],
   "source": [
    "def list_unique(x):\n",
    "    print('Entered list: ', x)\n",
    "    new_list = []\n",
    "    for i in x:\n",
    "        if i not in new_list:\n",
    "            new_list.append(i)\n",
    "    print('New list with Unique elements: ',new_list)\n",
    "    \n",
    "list_unique([1,2,3,1,2,3])        "
   ]
  },
  {
   "cell_type": "markdown",
   "metadata": {},
   "source": [
    "### 4. Write a program that accepts a hyphen-separated sequence of words as input and prints the words in a hyphen-separated sequence after sorting them alphabetically."
   ]
  },
  {
   "cell_type": "code",
   "execution_count": 23,
   "metadata": {},
   "outputs": [
    {
     "name": "stdin",
     "output_type": "stream",
     "text": [
      "Enter hyphen-separated sequence of words:  orange-grape-apple-kiwi\n"
     ]
    },
    {
     "data": {
      "text/plain": [
       "'apple-grape-kiwi-orange'"
      ]
     },
     "execution_count": 23,
     "metadata": {},
     "output_type": "execute_result"
    }
   ],
   "source": [
    "def sort_string():\n",
    "    enter = input('Enter hyphen-separated sequence of words: ')\n",
    "    sep = enter.split('-')\n",
    "    sep.sort()\n",
    "    x = '-'.join(sep)\n",
    "    return x\n",
    "    \n",
    "sort_string()"
   ]
  },
  {
   "cell_type": "markdown",
   "metadata": {},
   "source": [
    "### 5. Write a program that accepts a sequence of lines as input and prints the lines after making all characters in the sentence capitalized.\n",
    "#### Sample input:\n",
    "##### Hello world\n",
    "##### Practice makes perfect\n",
    "#### Expected Output:\n",
    "##### HELLO WORLD\n",
    "##### PRACTICE MAKES PERFECT\n"
   ]
  },
  {
   "cell_type": "code",
   "execution_count": 11,
   "metadata": {},
   "outputs": [
    {
     "name": "stdin",
     "output_type": "stream",
     "text": [
      "No of lines needed:  2\n",
      "Enter the sequence:  Hello world\n",
      "Enter the sequence:  Practice makes perfect\n"
     ]
    },
    {
     "name": "stdout",
     "output_type": "stream",
     "text": [
      "HELLO WORLD\n",
      "PRACTICE MAKES PERFECT\n"
     ]
    }
   ],
   "source": [
    "def capitalize():\n",
    "    lines = []\n",
    "    limit = int(input(\"No of lines needed: \"))\n",
    "    for i in range(1,limit+1):\n",
    "        l = input(\"Enter the sequence: \")\n",
    "        lines.append(l.upper())\n",
    "    for l in lines:\n",
    "        print(l)\n",
    "\n",
    "capitalize()"
   ]
  },
  {
   "cell_type": "markdown",
   "metadata": {},
   "source": [
    "### 6. Define a function that can receive two integral numbers in string form and compute their sum and print it in console."
   ]
  },
  {
   "cell_type": "code",
   "execution_count": 15,
   "metadata": {},
   "outputs": [
    {
     "name": "stdin",
     "output_type": "stream",
     "text": [
      "Enter num1:  6\n",
      "Enter num2:  7\n"
     ]
    },
    {
     "name": "stdout",
     "output_type": "stream",
     "text": [
      "6 is a  <class 'str'>\n",
      "7 is a  <class 'str'>\n"
     ]
    },
    {
     "data": {
      "text/plain": [
       "13"
      ]
     },
     "execution_count": 15,
     "metadata": {},
     "output_type": "execute_result"
    }
   ],
   "source": [
    "def num_string():\n",
    "    x = input('Enter num1: ')\n",
    "    y = input('Enter num2: ')\n",
    "    print(x, \"is a \",type(x))\n",
    "    print(y, \"is a \",type(y))\n",
    "    adding = int(x) + int(y)\n",
    "    return adding\n",
    "\n",
    "num_string()"
   ]
  },
  {
   "cell_type": "markdown",
   "metadata": {},
   "source": [
    "### 7. Define a function that can accept two strings as input and print the string with maximum length in console. If two strings have the same length, then the function should print all strings line by line."
   ]
  },
  {
   "cell_type": "code",
   "execution_count": 33,
   "metadata": {},
   "outputs": [
    {
     "name": "stdin",
     "output_type": "stream",
     "text": [
      "Enter the string1:  Python\n",
      "Enter the string2:  Training\n"
     ]
    },
    {
     "data": {
      "text/plain": [
       "'Training'"
      ]
     },
     "execution_count": 33,
     "metadata": {},
     "output_type": "execute_result"
    }
   ],
   "source": [
    "def max_length():\n",
    "    x = input(\"Enter the string1: \")\n",
    "    y = input(\"Enter the string2: \")\n",
    "    if len(x) > len(y):\n",
    "        return x\n",
    "    elif len(x) < len(y):\n",
    "        return y\n",
    "    else:\n",
    "        print(x,\"\\n\",y)\n",
    "\n",
    "max_length()   \n"
   ]
  },
  {
   "cell_type": "markdown",
   "metadata": {},
   "source": [
    "### 8. Define a function which can generate and print a tuple where the value are square of numbers between 1 and 20."
   ]
  },
  {
   "cell_type": "code",
   "execution_count": 40,
   "metadata": {},
   "outputs": [
    {
     "name": "stdout",
     "output_type": "stream",
     "text": [
      "(1, 4, 9, 16, 25, 36, 49, 64, 81, 100, 121, 144, 169, 196, 225, 256, 289, 324, 361, 400)\n"
     ]
    }
   ],
   "source": [
    "def square_num():\n",
    "    num_list = []\n",
    "    for i in range(1,21):\n",
    "        x = i**2\n",
    "        num_list.append(x)\n",
    "    print(tuple(num_list))\n",
    "\n",
    "square_num()    "
   ]
  },
  {
   "cell_type": "markdown",
   "metadata": {},
   "source": [
    "### 9. Write a function called showNumbers that takes a parameter called limit. It should print all the numbers between 0 and limit with a label to identify the even and odd numbers. \n",
    "#### Example: If the limit is 3 , it should print:\n",
    "##### 0 EVEN\n",
    "##### 1 ODD\n",
    "##### 2 EVEN\n",
    "##### 3 ODD\n"
   ]
  },
  {
   "cell_type": "code",
   "execution_count": 45,
   "metadata": {},
   "outputs": [
    {
     "name": "stdin",
     "output_type": "stream",
     "text": [
      "Enter the limit:  3\n"
     ]
    },
    {
     "name": "stdout",
     "output_type": "stream",
     "text": [
      "0  EVEN\n",
      "1  ODD\n",
      "2  EVEN\n",
      "3  ODD\n"
     ]
    }
   ],
   "source": [
    "def showNumbers(limit):\n",
    "    limit = int(input(\"Enter the limit: \"))\n",
    "    for i in range(limit+1):\n",
    "        if i % 2 == 0:\n",
    "            print(i, \" EVEN\")\n",
    "        else:\n",
    "            print(i, \" ODD\")\n",
    "showNumbers(limit)"
   ]
  },
  {
   "cell_type": "markdown",
   "metadata": {},
   "source": [
    "### 10. Write a program which can filter() to make a list whose elements are even number between 1 and 20 ( both included)"
   ]
  },
  {
   "cell_type": "code",
   "execution_count": 55,
   "metadata": {},
   "outputs": [
    {
     "data": {
      "text/plain": [
       "[0, 2, 4, 6, 8, 10, 12, 14, 16, 18, 20]"
      ]
     },
     "execution_count": 55,
     "metadata": {},
     "output_type": "execute_result"
    }
   ],
   "source": [
    "def list_filter():\n",
    "    even_num = list(filter((lambda x: x%2==0), range(21)))\n",
    "    return even_num\n",
    "\n",
    "list_filter()"
   ]
  },
  {
   "cell_type": "markdown",
   "metadata": {},
   "source": [
    "### 11. Write a program which can map() and filter() to make a list whose elements are square of even number in [1,2,3,4,5,6,7,8,9,10]\n",
    "#### Hints: Use map() to generate a list.\n",
    "#####     \t     Use filter() to filter elements of a list\n",
    "#####            Use lambda to define anonymous functions\n"
   ]
  },
  {
   "cell_type": "code",
   "execution_count": 64,
   "metadata": {},
   "outputs": [
    {
     "data": {
      "text/plain": [
       "[0, 4, 16, 36, 64, 100]"
      ]
     },
     "execution_count": 64,
     "metadata": {},
     "output_type": "execute_result"
    }
   ],
   "source": [
    "def even_square():\n",
    "    squa = list(map(lambda x : x**2, (filter((lambda x : x%2==0), range(11)))))\n",
    "    return squa\n",
    "\n",
    "even_square()"
   ]
  },
  {
   "cell_type": "markdown",
   "metadata": {},
   "source": [
    "### 12. Write a function to compute 5/0 and use try/except to catch the exceptions"
   ]
  },
  {
   "cell_type": "code",
   "execution_count": 66,
   "metadata": {},
   "outputs": [
    {
     "name": "stdout",
     "output_type": "stream",
     "text": [
      "Error dividing by zero\n"
     ]
    }
   ],
   "source": [
    "def try_except():\n",
    "    try:\n",
    "        x = 5 / 0\n",
    "    except:\n",
    "        print(\"Error dividing by zero\")\n",
    "\n",
    "try_except()"
   ]
  },
  {
   "cell_type": "markdown",
   "metadata": {},
   "source": [
    "### 13. Flatten the list [[1,2,3],[4,5],[6,7,8]] into [1,2,3,4,5,6,7,8] using reduce\n",
    "##### Goal : Turn [1,2,3,4,5,6,7] to 1234567 \n"
   ]
  },
  {
   "cell_type": "code",
   "execution_count": 75,
   "metadata": {},
   "outputs": [
    {
     "name": "stdout",
     "output_type": "stream",
     "text": [
      "[1, 2, 3, 4, 5, 6, 7, 8]\n",
      "12345678\n"
     ]
    }
   ],
   "source": [
    "from functools import reduce\n",
    "\n",
    "def flat_list():\n",
    "    giv_list = [[1,2,3],[4,5],[6,7,8]]\n",
    "    join = reduce((lambda x,y : x+y), giv_list)\n",
    "    print(join)\n",
    "    print(int(\"\".join(map(str, join))))\n",
    "flat_list()"
   ]
  },
  {
   "cell_type": "markdown",
   "metadata": {},
   "source": [
    "### 14. \tWhat is the output of the following codes:"
   ]
  },
  {
   "cell_type": "code",
   "execution_count": 76,
   "metadata": {},
   "outputs": [
    {
     "name": "stdout",
     "output_type": "stream",
     "text": [
      "2\n"
     ]
    }
   ],
   "source": [
    "def foo():\n",
    "    try:\n",
    "        return 1\n",
    "    finally:\n",
    "        return 2\n",
    "k = foo()\n",
    "print(k)"
   ]
  }
 ],
 "metadata": {
  "kernelspec": {
   "display_name": "Python 3",
   "language": "python",
   "name": "python3"
  },
  "language_info": {
   "codemirror_mode": {
    "name": "ipython",
    "version": 3
   },
   "file_extension": ".py",
   "mimetype": "text/x-python",
   "name": "python",
   "nbconvert_exporter": "python",
   "pygments_lexer": "ipython3",
   "version": "3.7.6"
  }
 },
 "nbformat": 4,
 "nbformat_minor": 4
}
