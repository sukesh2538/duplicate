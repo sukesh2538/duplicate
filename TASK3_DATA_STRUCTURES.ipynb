{
 "cells": [
  {
   "cell_type": "markdown",
   "metadata": {},
   "source": [
    "# TASK THREE: DATA STRUCTURES"
   ]
  },
  {
   "cell_type": "markdown",
   "metadata": {},
   "source": [
    "### 1.\tCreate a list of the 10 elements of four different types of Data Type like int, string, complex and float."
   ]
  },
  {
   "cell_type": "code",
   "execution_count": 58,
   "metadata": {},
   "outputs": [
    {
     "data": {
      "text/plain": [
       "[6, 5.5, 3, 'sukesh', (6+7j), 'python', 7, 2.3, (4+3j), 9]"
      ]
     },
     "execution_count": 58,
     "metadata": {},
     "output_type": "execute_result"
    }
   ],
   "source": [
    "given_list = [6, 5.5, 3, 'sukesh', 6+7j, 'python', 7, 2.3, 4+3j, 9]\n",
    "given_list"
   ]
  },
  {
   "cell_type": "markdown",
   "metadata": {},
   "source": [
    "### 2. \tCreate a list of size 5 and execute the slicing structure "
   ]
  },
  {
   "cell_type": "code",
   "execution_count": 9,
   "metadata": {},
   "outputs": [
    {
     "name": "stdout",
     "output_type": "stream",
     "text": [
      "[4, 5.3, 7, 'python', 2.5]\n",
      "['python', 2.5]\n",
      "[4, 5.3, 7]\n",
      "[7, 'python']\n",
      "[4, 5.3, 7]\n",
      "[4, 7, 2.5]\n",
      "[2.5, 'python', 7, 5.3, 4]\n",
      "[2.5, 7, 4]\n"
     ]
    }
   ],
   "source": [
    "list1 = [4, 5.3, 7, 'python', 2.5]\n",
    "print(list1[:])\n",
    "print(list1[3:])\n",
    "print(list1[:3])\n",
    "print(list1[2:-1])\n",
    "print(list1[:-2])\n",
    "print(list1[::2])\n",
    "print(list1[::-1])\n",
    "print(list1[::-2])"
   ]
  },
  {
   "cell_type": "markdown",
   "metadata": {},
   "source": [
    "### 3.          Write  a program to get the sum and multiply of all the items in a given list."
   ]
  },
  {
   "cell_type": "code",
   "execution_count": 33,
   "metadata": {},
   "outputs": [
    {
     "name": "stdout",
     "output_type": "stream",
     "text": [
      "Sum of all elements in given list:  39\n",
      "Multiplication of all elements in given list:  72576\n"
     ]
    }
   ],
   "source": [
    "list2 = [2,4,6,8,3,7,9]\n",
    "sum_lis = 0 \n",
    "mul_lis = 1\n",
    "for i in range(0, len(list2)): \n",
    "    sum_lis = sum_lis + list2[i] \n",
    "print(\"Sum of all elements in given list: \", sum_lis)\n",
    "for j in list2:\n",
    "    mul_lis = mul_lis * j\n",
    "print(\"Multiplication of all elements in given list: \", mul_lis)"
   ]
  },
  {
   "cell_type": "markdown",
   "metadata": {},
   "source": [
    "### 4. Find the largest and smallest number from a given list."
   ]
  },
  {
   "cell_type": "code",
   "execution_count": 34,
   "metadata": {},
   "outputs": [
    {
     "name": "stdout",
     "output_type": "stream",
     "text": [
      "Minimum Number:  6\n",
      "Maximum Number:  78\n"
     ]
    }
   ],
   "source": [
    "giv_li = [23, 45, 21, 78, 56, 6]\n",
    "minimum = min(giv_li)\n",
    "maximum = max(giv_li)\n",
    "print(\"Minimum Number: \", minimum)\n",
    "print(\"Maximum Number: \", maximum)"
   ]
  },
  {
   "cell_type": "markdown",
   "metadata": {},
   "source": [
    "### 5. Create a new list which contains the specified numbers after removing the even numbers from a predefined list. "
   ]
  },
  {
   "cell_type": "code",
   "execution_count": 35,
   "metadata": {},
   "outputs": [
    {
     "name": "stdout",
     "output_type": "stream",
     "text": [
      "[7, 33, 9]\n"
     ]
    }
   ],
   "source": [
    "def_lis = [2, 7, 44, 33, 9]\n",
    "new_lis = []\n",
    "for i in def_lis:\n",
    "    if i % 2 !=0:\n",
    "        new_lis.append(i)\n",
    "print(new_lis)"
   ]
  },
  {
   "cell_type": "markdown",
   "metadata": {},
   "source": [
    "### 6. Create a list of first and last 5 elements where the values are square of numbers between 1 and30 (both included)."
   ]
  },
  {
   "cell_type": "code",
   "execution_count": 38,
   "metadata": {},
   "outputs": [
    {
     "name": "stdout",
     "output_type": "stream",
     "text": [
      "Square of first 5 elements [1, 4, 9, 16, 25]\n",
      "Square of last 5 elements [676, 729, 784, 841, 900]\n"
     ]
    }
   ],
   "source": [
    "l = list()\n",
    "for i in range(1,31):\n",
    "    l.append(i**2)\n",
    "print(\"Square of first 5 elements\", l[:5])\n",
    "print(\"Square of last 5 elements\", l[-5:])"
   ]
  },
  {
   "cell_type": "markdown",
   "metadata": {},
   "source": [
    "### 7. Write a program to replace the last element in a list with another list.\n",
    "Sample data: [[1,3,5,7,9,10],[2,4,6,8]]\n",
    "Expected output: [1,3,5,7,9,2,4,6,8]\n"
   ]
  },
  {
   "cell_type": "code",
   "execution_count": 42,
   "metadata": {},
   "outputs": [
    {
     "name": "stdout",
     "output_type": "stream",
     "text": [
      "[1, 3, 5, 7, 9, 2, 4, 6, 8]\n"
     ]
    }
   ],
   "source": [
    "sample_data = [[1,3,5,7,9,10],[2,4,6,8]]\n",
    "x = sample_data[0]\n",
    "y = sample_data[1]\n",
    "x.pop()\n",
    "x.extend(y)\n",
    "expected_output = x\n",
    "print(expected_output)"
   ]
  },
  {
   "cell_type": "markdown",
   "metadata": {},
   "source": [
    "### 8. Create a new dictionary by concatenating the following two dictionaries:\n",
    "a={1:10,2:20}\n",
    "b={3:30,4:40}\n",
    "Expected Result: {1:10,2:20,3:30,4:40}\n"
   ]
  },
  {
   "cell_type": "code",
   "execution_count": 49,
   "metadata": {},
   "outputs": [
    {
     "name": "stdout",
     "output_type": "stream",
     "text": [
      "{'1': 10, '2': 20, '3': 30, '4': 40}\n"
     ]
    }
   ],
   "source": [
    "a = {'1':10, '2':20}\n",
    "b = {'3':30, '4':40}\n",
    "expected_out = {}\n",
    "for i in (a,b):\n",
    "    expected_out.update(i)\n",
    "print(expected_out)"
   ]
  },
  {
   "cell_type": "markdown",
   "metadata": {},
   "source": [
    "### 9. Create a dictionary that contains a number (between 1 and n) in the form(x,x*x).\n",
    "Sample data (n=5)\n",
    "Expected Output: {1:1,2:4,3:9,4:16,5:25}\n"
   ]
  },
  {
   "cell_type": "code",
   "execution_count": 50,
   "metadata": {},
   "outputs": [
    {
     "name": "stdin",
     "output_type": "stream",
     "text": [
      "Sample data:  5\n"
     ]
    },
    {
     "name": "stdout",
     "output_type": "stream",
     "text": [
      "{1: 1, 2: 4, 3: 9, 4: 16, 5: 25}\n"
     ]
    }
   ],
   "source": [
    "data = int(input(\"Sample data: \"))\n",
    "exp_out = dict()\n",
    "for x in range(1,data+1):\n",
    "    exp_out[x]=x*x\n",
    "print(exp_out) "
   ]
  },
  {
   "cell_type": "markdown",
   "metadata": {},
   "source": [
    "### 10. Write a program which accepts a sequence of comma-separated numbers from console and generate a list and a tuple which contains every number. Suppose the following input is supplied to the program:\n",
    "34,67,55,33,12,98\n",
    "The output should be:\n",
    "[‘34’,’67’,’55’,’33’,’12’,’98’]\n",
    "(‘34’,’67’,’55’,’33’,’12’,’98’)\n"
   ]
  },
  {
   "cell_type": "code",
   "execution_count": 52,
   "metadata": {},
   "outputs": [
    {
     "name": "stdin",
     "output_type": "stream",
     "text": [
      "Input some comma seprated numbers :  34,67,55,33,12,98\n"
     ]
    },
    {
     "name": "stdout",
     "output_type": "stream",
     "text": [
      "List :  ['34', '67', '55', '33', '12', '98']\n",
      "Tuple :  ('34', '67', '55', '33', '12', '98')\n"
     ]
    }
   ],
   "source": [
    "given = input(\"Input some comma seprated numbers : \")\n",
    "list = given.split(\",\")\n",
    "tuple = tuple(list)\n",
    "print('List : ',list)\n",
    "print('Tuple : ',tuple)"
   ]
  },
  {
   "cell_type": "markdown",
   "metadata": {},
   "source": [
    "### 11. Create a list of the 10 elements of four different types of Data Type like int, string, complex and float."
   ]
  },
  {
   "cell_type": "code",
   "execution_count": 55,
   "metadata": {},
   "outputs": [
    {
     "data": {
      "text/plain": [
       "[6, 5.5, 3, 'sukesh', (6+7j), 'python', 7, 2.3, (4+3j), 9]"
      ]
     },
     "execution_count": 55,
     "metadata": {},
     "output_type": "execute_result"
    }
   ],
   "source": [
    "given_list = [6, 5.5, 3, 'sukesh', 6+7j, 'python', 7, 2.3, 4+3j, 9]\n",
    "given_list"
   ]
  },
  {
   "cell_type": "markdown",
   "metadata": {},
   "source": [
    "### 12. Create a list of size 5 and execute the slicing structure "
   ]
  },
  {
   "cell_type": "code",
   "execution_count": 57,
   "metadata": {},
   "outputs": [
    {
     "name": "stdout",
     "output_type": "stream",
     "text": [
      "[4, 5.3, 7, 'python', 2.5]\n",
      "['python', 2.5]\n",
      "[4, 5.3, 7]\n",
      "[7, 'python']\n",
      "[4, 5.3, 7]\n",
      "[4, 7, 2.5]\n",
      "[2.5, 'python', 7, 5.3, 4]\n",
      "[2.5, 7, 4]\n"
     ]
    }
   ],
   "source": [
    "list1 = [4, 5.3, 7, 'python', 2.5]\n",
    "print(list1[:])\n",
    "print(list1[3:])\n",
    "print(list1[:3])\n",
    "print(list1[2:-1])\n",
    "print(list1[:-2])\n",
    "print(list1[::2])\n",
    "print(list1[::-1])\n",
    "print(list1[::-2])"
   ]
  },
  {
   "cell_type": "markdown",
   "metadata": {},
   "source": [
    "### 13. \tCreate a list of given structure and run \n",
    "##### \tx=[100,200,300,400,500,[1,2,3,4,5,[10,20,30,40,50],6,7,8,9],600,700,800]\n",
    "##### ●\tAccess list [1, 2, 3, 4]\n",
    "##### ●\tAccess list [600,  700]\n",
    "##### ●\tAccess list [100, 300, 500, 600, 800]\n",
    "##### ●\tAccess list [[800, 700, 600, [1, 2, 3, 4, 5, [10, 20, 30, 40, 50], 6, 7, 8, 9], 500, 400, 300, 200, 100]]\n",
    "##### ●\tAccess list [10]\n",
    "##### ●\tAccess list [ ]\n"
   ]
  },
  {
   "cell_type": "code",
   "execution_count": 79,
   "metadata": {},
   "outputs": [
    {
     "name": "stdout",
     "output_type": "stream",
     "text": [
      "Access List1:  [1, 2, 3, 4]\n",
      "Access List2:  [600, 700]\n",
      "Access List3:  [100, 300, 500, 600, 800]\n",
      "Access List4:  [[800, 700, 600, [1, 2, 3, 4, 5, [10, 20, 30, 40, 50], 6, 7, 8, 9], 500, 400, 300, 200, 100]]\n",
      "Access List5:  [10]\n",
      "Access List6:  [None]\n"
     ]
    }
   ],
   "source": [
    "x=[100,200,300,400,500,[1,2,3,4,5,[10,20,30,40,50],6,7,8,9],600,700,800]\n",
    "print(\"Access List1: \", x[5][:4])\n",
    "print(\"Access List2: \", x[-3:-1])\n",
    "print(\"Access List3: \", x[::2])\n",
    "print(\"Access List4: \", [x[::-1]])\n",
    "print(\"Access List5: \", [x[5][5][0]])\n",
    "x=[x.clear()]\n",
    "print(\"Access List6: \", x)"
   ]
  },
  {
   "cell_type": "markdown",
   "metadata": {},
   "source": [
    "### 14. Create a list of thousand number using range and xrange and see the difference between each other.\n",
    "##### range() and xrange() are two functions that could be used to iterate a certain number of times in for loops in Python. In Python 3, there is no xrange , but the range function behaves like xrange in Python 2."
   ]
  },
  {
   "cell_type": "code",
   "execution_count": 14,
   "metadata": {},
   "outputs": [
    {
     "name": "stdout",
     "output_type": "stream",
     "text": [
      "[0, 1, 2, 3, 4, 5, 6, 7, 8, 9, 10, 11, 12, 13, 14, 15, 16, 17, 18, 19, 20, 21, 22, 23, 24, 25, 26, 27, 28, 29, 30, 31, 32, 33, 34, 35, 36, 37, 38, 39, 40, 41, 42, 43, 44, 45, 46, 47, 48, 49, 50, 51, 52, 53, 54, 55, 56, 57, 58, 59, 60, 61, 62, 63, 64, 65, 66, 67, 68, 69, 70, 71, 72, 73, 74, 75, 76, 77, 78, 79, 80, 81, 82, 83, 84, 85, 86, 87, 88, 89, 90, 91, 92, 93, 94, 95, 96, 97, 98, 99, 100, 101, 102, 103, 104, 105, 106, 107, 108, 109, 110, 111, 112, 113, 114, 115, 116, 117, 118, 119, 120, 121, 122, 123, 124, 125, 126, 127, 128, 129, 130, 131, 132, 133, 134, 135, 136, 137, 138, 139, 140, 141, 142, 143, 144, 145, 146, 147, 148, 149, 150, 151, 152, 153, 154, 155, 156, 157, 158, 159, 160, 161, 162, 163, 164, 165, 166, 167, 168, 169, 170, 171, 172, 173, 174, 175, 176, 177, 178, 179, 180, 181, 182, 183, 184, 185, 186, 187, 188, 189, 190, 191, 192, 193, 194, 195, 196, 197, 198, 199, 200, 201, 202, 203, 204, 205, 206, 207, 208, 209, 210, 211, 212, 213, 214, 215, 216, 217, 218, 219, 220, 221, 222, 223, 224, 225, 226, 227, 228, 229, 230, 231, 232, 233, 234, 235, 236, 237, 238, 239, 240, 241, 242, 243, 244, 245, 246, 247, 248, 249, 250, 251, 252, 253, 254, 255, 256, 257, 258, 259, 260, 261, 262, 263, 264, 265, 266, 267, 268, 269, 270, 271, 272, 273, 274, 275, 276, 277, 278, 279, 280, 281, 282, 283, 284, 285, 286, 287, 288, 289, 290, 291, 292, 293, 294, 295, 296, 297, 298, 299, 300, 301, 302, 303, 304, 305, 306, 307, 308, 309, 310, 311, 312, 313, 314, 315, 316, 317, 318, 319, 320, 321, 322, 323, 324, 325, 326, 327, 328, 329, 330, 331, 332, 333, 334, 335, 336, 337, 338, 339, 340, 341, 342, 343, 344, 345, 346, 347, 348, 349, 350, 351, 352, 353, 354, 355, 356, 357, 358, 359, 360, 361, 362, 363, 364, 365, 366, 367, 368, 369, 370, 371, 372, 373, 374, 375, 376, 377, 378, 379, 380, 381, 382, 383, 384, 385, 386, 387, 388, 389, 390, 391, 392, 393, 394, 395, 396, 397, 398, 399, 400, 401, 402, 403, 404, 405, 406, 407, 408, 409, 410, 411, 412, 413, 414, 415, 416, 417, 418, 419, 420, 421, 422, 423, 424, 425, 426, 427, 428, 429, 430, 431, 432, 433, 434, 435, 436, 437, 438, 439, 440, 441, 442, 443, 444, 445, 446, 447, 448, 449, 450, 451, 452, 453, 454, 455, 456, 457, 458, 459, 460, 461, 462, 463, 464, 465, 466, 467, 468, 469, 470, 471, 472, 473, 474, 475, 476, 477, 478, 479, 480, 481, 482, 483, 484, 485, 486, 487, 488, 489, 490, 491, 492, 493, 494, 495, 496, 497, 498, 499, 500, 501, 502, 503, 504, 505, 506, 507, 508, 509, 510, 511, 512, 513, 514, 515, 516, 517, 518, 519, 520, 521, 522, 523, 524, 525, 526, 527, 528, 529, 530, 531, 532, 533, 534, 535, 536, 537, 538, 539, 540, 541, 542, 543, 544, 545, 546, 547, 548, 549, 550, 551, 552, 553, 554, 555, 556, 557, 558, 559, 560, 561, 562, 563, 564, 565, 566, 567, 568, 569, 570, 571, 572, 573, 574, 575, 576, 577, 578, 579, 580, 581, 582, 583, 584, 585, 586, 587, 588, 589, 590, 591, 592, 593, 594, 595, 596, 597, 598, 599, 600, 601, 602, 603, 604, 605, 606, 607, 608, 609, 610, 611, 612, 613, 614, 615, 616, 617, 618, 619, 620, 621, 622, 623, 624, 625, 626, 627, 628, 629, 630, 631, 632, 633, 634, 635, 636, 637, 638, 639, 640, 641, 642, 643, 644, 645, 646, 647, 648, 649, 650, 651, 652, 653, 654, 655, 656, 657, 658, 659, 660, 661, 662, 663, 664, 665, 666, 667, 668, 669, 670, 671, 672, 673, 674, 675, 676, 677, 678, 679, 680, 681, 682, 683, 684, 685, 686, 687, 688, 689, 690, 691, 692, 693, 694, 695, 696, 697, 698, 699, 700, 701, 702, 703, 704, 705, 706, 707, 708, 709, 710, 711, 712, 713, 714, 715, 716, 717, 718, 719, 720, 721, 722, 723, 724, 725, 726, 727, 728, 729, 730, 731, 732, 733, 734, 735, 736, 737, 738, 739, 740, 741, 742, 743, 744, 745, 746, 747, 748, 749, 750, 751, 752, 753, 754, 755, 756, 757, 758, 759, 760, 761, 762, 763, 764, 765, 766, 767, 768, 769, 770, 771, 772, 773, 774, 775, 776, 777, 778, 779, 780, 781, 782, 783, 784, 785, 786, 787, 788, 789, 790, 791, 792, 793, 794, 795, 796, 797, 798, 799, 800, 801, 802, 803, 804, 805, 806, 807, 808, 809, 810, 811, 812, 813, 814, 815, 816, 817, 818, 819, 820, 821, 822, 823, 824, 825, 826, 827, 828, 829, 830, 831, 832, 833, 834, 835, 836, 837, 838, 839, 840, 841, 842, 843, 844, 845, 846, 847, 848, 849, 850, 851, 852, 853, 854, 855, 856, 857, 858, 859, 860, 861, 862, 863, 864, 865, 866, 867, 868, 869, 870, 871, 872, 873, 874, 875, 876, 877, 878, 879, 880, 881, 882, 883, 884, 885, 886, 887, 888, 889, 890, 891, 892, 893, 894, 895, 896, 897, 898, 899, 900, 901, 902, 903, 904, 905, 906, 907, 908, 909, 910, 911, 912, 913, 914, 915, 916, 917, 918, 919, 920, 921, 922, 923, 924, 925, 926, 927, 928, 929, 930, 931, 932, 933, 934, 935, 936, 937, 938, 939, 940, 941, 942, 943, 944, 945, 946, 947, 948, 949, 950, 951, 952, 953, 954, 955, 956, 957, 958, 959, 960, 961, 962, 963, 964, 965, 966, 967, 968, 969, 970, 971, 972, 973, 974, 975, 976, 977, 978, 979, 980, 981, 982, 983, 984, 985, 986, 987, 988, 989, 990, 991, 992, 993, 994, 995, 996, 997, 998, 999, 1000]\n"
     ]
    }
   ],
   "source": [
    "a = []\n",
    "b = []\n",
    "for i in range(1001):\n",
    "    a.append(i)\n",
    "print(a)\n",
    "# for j in xrange(1001):\n",
    "#     b.append(j)\n",
    "# print(b)"
   ]
  },
  {
   "cell_type": "markdown",
   "metadata": {},
   "source": [
    "### 15. How Tuple is beneficial as compare to the list?\n",
    "##### Tuple is immutable, where list is a mutable. \n",
    "##### The tuple is faster than the list because of static in nature. \n",
    "##### We use a list when we want to contain similar items, but use a tuple when we know what information goes into it. \n",
    "##### We use tuple when we need data to be unchangeable."
   ]
  },
  {
   "cell_type": "markdown",
   "metadata": {},
   "source": [
    "### 16. Write a program in Python to iterate through the list of numbers in the range of 1,100 and print the number which is divisible by 3 and a multiple of 2."
   ]
  },
  {
   "cell_type": "code",
   "execution_count": 88,
   "metadata": {},
   "outputs": [
    {
     "name": "stdout",
     "output_type": "stream",
     "text": [
      "[6, 12, 18, 24, 30, 36, 42, 48, 54, 60, 66, 72, 78, 84, 90, 96]\n"
     ]
    }
   ],
   "source": [
    "x = []\n",
    "for i in range(1,101):\n",
    "    if i % 3 == 0 and i % 2 == 0:\n",
    "        x.append(i)\n",
    "print(x)"
   ]
  },
  {
   "cell_type": "markdown",
   "metadata": {},
   "source": [
    "### 17. Write a program in Python to reverse a string and print only the vowel alphabet if exist in the string with their index."
   ]
  },
  {
   "cell_type": "code",
   "execution_count": 106,
   "metadata": {},
   "outputs": [
    {
     "name": "stdin",
     "output_type": "stream",
     "text": [
      "Enter the String:  ConSULtadd'S pYTHon TRainING\n"
     ]
    },
    {
     "name": "stdout",
     "output_type": "stream",
     "text": [
      "After reversing the String:  GNIniaRT noHTYp S'ddatLUSnoC\n",
      "The vowel alphabets are:  ['i', 'i', 'a', 'o', 'a', 'u', 'o']\n",
      "The vowel indices are: [2, 4, 5, 10, 20, 23, 26]\n"
     ]
    }
   ],
   "source": [
    "word = input('Enter the String: ')\n",
    "rev_word = word[::-1]\n",
    "print('After reversing the String: ', rev_word)\n",
    "vowel = ('a','e','i','o','u')\n",
    "lis_vowel = []\n",
    "str_indice = []\n",
    "for i in rev_word.lower():\n",
    "    if i in vowel:\n",
    "        lis_vowel.append(i)\n",
    "print(\"The vowel alphabets are: \", lis_vowel)\n",
    "for j in range(len(rev_word)):\n",
    "    if rev_word[j].lower() in vowel:\n",
    "        str_indice.append(j)\n",
    "print(\"The vowel indices are: \" + str(str_indice))"
   ]
  },
  {
   "cell_type": "markdown",
   "metadata": {},
   "source": [
    "### 18. Write a program in Python to iterate through the string “hello my name is abcde” and print the string which has even length of word."
   ]
  },
  {
   "cell_type": "code",
   "execution_count": 108,
   "metadata": {},
   "outputs": [
    {
     "name": "stdout",
     "output_type": "stream",
     "text": [
      "my\n",
      "name\n",
      "is\n"
     ]
    }
   ],
   "source": [
    "giv_strin = \"hello my name is abcde\"\n",
    "giv_strin = giv_strin.split(' ')\n",
    "for i in giv_strin:\n",
    "    if len(i) % 2 == 0:\n",
    "        print(i)"
   ]
  },
  {
   "cell_type": "markdown",
   "metadata": {},
   "source": [
    "### 19. Write a program in python to print the pair of numbers whose sum is equal to result number that is let's say 8.\n",
    "x=[1,2,3,4,5,6,7,8,9,-1]\n"
   ]
  },
  {
   "cell_type": "code",
   "execution_count": 118,
   "metadata": {},
   "outputs": [
    {
     "name": "stdout",
     "output_type": "stream",
     "text": [
      "Pair, whose sum is 8:\n",
      "  1 7\n",
      "Pair, whose sum is 8:\n",
      "  2 6\n",
      "Pair, whose sum is 8:\n",
      "  3 5\n",
      "Pair, whose sum is 8:\n",
      "  9 -1\n",
      "No of Pair's whose sum is equal to 8:  4\n"
     ]
    }
   ],
   "source": [
    "gi_lis = [1,2,3,4,5,6,7,8,9,-1] \n",
    "L = len(gi_lis) \n",
    "count = 0\n",
    "for i in range(0, L):\n",
    "    for j in range(i + 1, L):\n",
    "        if gi_lis[i] + gi_lis[j] == 8:\n",
    "            print(\"Pair, whose sum is 8:\\n \", gi_lis[i], gi_lis[j])\n",
    "            count += 1\n",
    "print(\"No of Pair's whose sum is equal to 8: \", count)  "
   ]
  },
  {
   "cell_type": "markdown",
   "metadata": {},
   "source": [
    "### 20. \tWrite a program in Python to complete the following task:\n",
    "##### ●\tCreate two different list as in even_list and odd_list\n",
    "##### ●\tAsk user to enter the number in the range of 1,50 and make sure if the entered number is even append it to the even_list and if the entered number is odd append it to the odd list.\n",
    "##### ●\tKeep that in mind you can only add 5 items in each list\n",
    "##### ●\tMake sure once you entered the total 5 element calculate the sum of the list and return the maximum out of the list.\n"
   ]
  },
  {
   "cell_type": "code",
   "execution_count": 13,
   "metadata": {},
   "outputs": [
    {
     "name": "stdin",
     "output_type": "stream",
     "text": [
      "Enter the number in the range of 1,50:  1\n",
      "Enter the number in the range of 1,50:  2\n",
      "Enter the number in the range of 1,50:  3\n",
      "Enter the number in the range of 1,50:  4\n",
      "Enter the number in the range of 1,50:  5\n",
      "Enter the number in the range of 1,50:  6\n",
      "Enter the number in the range of 1,50:  7\n",
      "Enter the number in the range of 1,50:  8\n",
      "Enter the number in the range of 1,50:  9\n",
      "Enter the number in the range of 1,50:  10\n"
     ]
    },
    {
     "name": "stdout",
     "output_type": "stream",
     "text": [
      "The Sum of the evenlist:  30\n",
      "The Max no. of the evenlist:  10\n",
      "The Sum of the Oddlist:  25\n",
      "The Max no. of the Oddlist:  9\n"
     ]
    }
   ],
   "source": [
    "total_list=[]\n",
    "for i in range(1,11):\n",
    "    user = int(input(\"Enter the number in the range of 1,50: \"))\n",
    "    total_list.append(user)\n",
    "even_list=[]\n",
    "odd_list=[]\n",
    "for j in total_list:\n",
    "    if j % 2 == 0 and len(even_list)<6:\n",
    "        even_list.append(j)\n",
    "    elif j % 2 != 0 and len(odd_list)<6:\n",
    "        odd_list.append(j)\n",
    "    else:\n",
    "        print(\"Maximum even/odd lists reached\")\n",
    "print(\"The Sum of the evenlist: \", sum(even_list))\n",
    "print(\"The Max no. of the evenlist: \", max(even_list))\n",
    "print(\"The Sum of the Oddlist: \", sum(odd_list))\n",
    "print(\"The Max no. of the Oddlist: \", max(odd_list))"
   ]
  },
  {
   "cell_type": "markdown",
   "metadata": {},
   "source": [
    "### 21. Write a program to find out the occurrence of a specific word from an alphanumeric statement. Example: 12abcbacbaba344ab  \n",
    "#####                    Output: a=5 b=5 c=2 make sure you should avoid the numbers in you logic"
   ]
  },
  {
   "cell_type": "code",
   "execution_count": 18,
   "metadata": {},
   "outputs": [
    {
     "name": "stdout",
     "output_type": "stream",
     "text": [
      "{'g': 2, 'o': 3, 'l': 1, 'e': 1, '.': 1, 'c': 1, 'm': 1}\n",
      "{'a': 5, 'b': 5, 'c': 2}\n"
     ]
    }
   ],
   "source": [
    "given_word = \"12abcbacbaba344ab\"\n",
    "word_count = dict()\n",
    "for i in given_word:\n",
    "    keys = word_count.keys()\n",
    "    if i in keys:\n",
    "        word_count[i] += 1\n",
    "    elif i.isdigit():\n",
    "        continue\n",
    "    else:\n",
    "        word_count[i] = 1\n",
    "print(word_count)"
   ]
  },
  {
   "cell_type": "markdown",
   "metadata": {},
   "source": [
    "### 22. Generate and print another tuple whose values are even numbers in the given tuple (1,2,3,4,5,6,7,8,9,10)."
   ]
  },
  {
   "cell_type": "code",
   "execution_count": 19,
   "metadata": {},
   "outputs": [
    {
     "name": "stdout",
     "output_type": "stream",
     "text": [
      "(2, 4, 6, 8, 10)\n"
     ]
    }
   ],
   "source": [
    "given_tuple = (1,2,3,4,5,6,7,8,9,10)\n",
    "new_list = []\n",
    "for i in given_tuple:\n",
    "    if i % 2 == 0:\n",
    "        new_list.append(i)\n",
    "new_tuple = tuple(new_list)\n",
    "print(new_tuple)"
   ]
  }
 ],
 "metadata": {
  "kernelspec": {
   "display_name": "Python 3",
   "language": "python",
   "name": "python3"
  },
  "language_info": {
   "codemirror_mode": {
    "name": "ipython",
    "version": 3
   },
   "file_extension": ".py",
   "mimetype": "text/x-python",
   "name": "python",
   "nbconvert_exporter": "python",
   "pygments_lexer": "ipython3",
   "version": "3.7.6"
  }
 },
 "nbformat": 4,
 "nbformat_minor": 4
}
