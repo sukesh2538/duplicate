{
 "cells": [
  {
   "cell_type": "markdown",
   "metadata": {},
   "source": [
    "# TASK ONE: NUMBERS AND VARIABLES\n",
    "#### 1. Create three variables in a single line and assign different values to them and make sure their data types are invited differently. Like one is int, another one is float and last one is string."
   ]
  },
  {
   "cell_type": "code",
   "execution_count": 4,
   "metadata": {},
   "outputs": [
    {
     "name": "stdout",
     "output_type": "stream",
     "text": [
      "<class 'int'>\n",
      "<class 'float'>\n",
      "<class 'str'>\n",
      "<class 'int'> <class 'float'> <class 'str'>\n"
     ]
    }
   ],
   "source": [
    "x = 6; y = 6.66; z = 'sukesh'\n",
    "print(type(x))\n",
    "print(type(y))\n",
    "print(type(z))\n",
    "\n",
    "a,b,c = 7,7.77,'varma'\n",
    "print(type(a), type(b), type(c))"
   ]
  },
  {
   "cell_type": "markdown",
   "metadata": {},
   "source": [
    "#### 2. Create a variable of value type complex and swap it with another variable whose value is an integer."
   ]
  },
  {
   "cell_type": "code",
   "execution_count": 8,
   "metadata": {},
   "outputs": [
    {
     "name": "stdout",
     "output_type": "stream",
     "text": [
      "<class 'complex'>\n",
      "77\n",
      "(6+7j)\n"
     ]
    }
   ],
   "source": [
    "compvar = 6+7j\n",
    "print(type(compvar))\n",
    "intnum = 77\n",
    "print(intnum)\n",
    "intnum = compvar\n",
    "print(intnum)"
   ]
  },
  {
   "cell_type": "markdown",
   "metadata": {},
   "source": [
    "#### 3. Swap two numbers using third variable as result name and do the same task without using any third variable"
   ]
  },
  {
   "cell_type": "code",
   "execution_count": 13,
   "metadata": {},
   "outputs": [
    {
     "name": "stdout",
     "output_type": "stream",
     "text": [
      "Before swap 5 10\n",
      "After swap 10 5\n",
      "Before swap 6 7\n",
      "After swap 7 6\n"
     ]
    }
   ],
   "source": [
    "# using third variable\n",
    "a = 5\n",
    "b = 10\n",
    "print(\"Before swap\", a,b)\n",
    "swapvar = a\n",
    "a = b\n",
    "b = swapvar\n",
    "print(\"After swap\", a,b)\n",
    "\n",
    "# without using any third variable\n",
    "x = 6 \n",
    "y = 7\n",
    "print(\"Before swap\", x, y)\n",
    "x,y = y,x\n",
    "print(\"After swap\", x,y)"
   ]
  },
  {
   "cell_type": "markdown",
   "metadata": {},
   "source": [
    "#### 4. Write a program to print the value given by the user by using both Python 2.x and Python 3.x Version."
   ]
  },
  {
   "cell_type": "code",
   "execution_count": null,
   "metadata": {},
   "outputs": [],
   "source": [
    "# Python 2.x \n",
    "x = raw_input(\"Enter the value\")\n",
    "print(type(x))\n",
    "\n",
    "# Python 3.x\n",
    "y = input(\"Enter the value for python 3.x: \")\n",
    "print(type(y))"
   ]
  },
  {
   "cell_type": "markdown",
   "metadata": {},
   "source": [
    "#### 5. Write a program to complete the task given below:¶\n",
    "* Ask user to enter any 2 numbers in between 1-10 and add both of them to another variable call z.\n",
    "\n",
    "* Use z for adding 30 into it and print the final result by using variable result."
   ]
  },
  {
   "cell_type": "code",
   "execution_count": 1,
   "metadata": {},
   "outputs": [
    {
     "name": "stdin",
     "output_type": "stream",
     "text": [
      "Enter the number between 1-10:  6\n",
      "Enter the number between 1-10:  7\n"
     ]
    },
    {
     "name": "stdout",
     "output_type": "stream",
     "text": [
      "13\n",
      "43\n"
     ]
    }
   ],
   "source": [
    "First_Num = int(input(\"Enter the number between 1-10: \"))\n",
    "Second_Num = int(input(\"Enter the number between 1-10: \"))\n",
    "Z = First_Num + Second_Num\n",
    "print(Z)\n",
    "Z = Z + 30\n",
    "print(Z)"
   ]
  },
  {
   "cell_type": "markdown",
   "metadata": {},
   "source": [
    "#### 6. Write a program to check the data type of the entered values. HINT: Printed output should say - The input value data type is : int/float/string/etc"
   ]
  },
  {
   "cell_type": "code",
   "execution_count": 18,
   "metadata": {},
   "outputs": [
    {
     "name": "stdin",
     "output_type": "stream",
     "text": [
      "Enter the input:  sukesh\n"
     ]
    },
    {
     "name": "stdout",
     "output_type": "stream",
     "text": [
      "The input value data type is :  <class 'str'>\n"
     ]
    }
   ],
   "source": [
    "given = input(\"Enter the input: \")\n",
    "print(\"The input value data type is : \", type(given))"
   ]
  },
  {
   "cell_type": "code",
   "execution_count": 16,
   "metadata": {},
   "outputs": [
    {
     "name": "stdin",
     "output_type": "stream",
     "text": [
      "Enter your Age  2.5\n"
     ]
    },
    {
     "name": "stdout",
     "output_type": "stream",
     "text": [
      "The input value data type is Float\n"
     ]
    }
   ],
   "source": [
    "user_input = input(\"Enter your Age \")\n",
    "try:\n",
    "    val = int(user_input)\n",
    "    print(\"The input value data type is Integer\")\n",
    "except ValueError:\n",
    "    try:\n",
    "        val = float(user_input)\n",
    "        print(\"The input value data type is Float\")\n",
    "    except ValueError:\n",
    "        print(\"The input value data type is a string\")"
   ]
  },
  {
   "cell_type": "markdown",
   "metadata": {},
   "source": [
    "#### 7. Create Variable using CamelCase, LadderCase and UPPERCASE."
   ]
  },
  {
   "cell_type": "markdown",
   "metadata": {},
   "source": [
    "#### Camel Case: \n",
    "##### Second and subsequent words are capitalized, to make word boundaries easier to see.\n",
    "### numberOfStudentsAttended = 14\n",
    "#### Pascal Case: \n",
    "##### Identical to Camel Case, except the first word is also capitalized.\n",
    "### NumberOfStudentsAttended = 14\n",
    "#### Upper Case:\n",
    "##### All words are capitalized\n",
    "### NUMBER_OF_STUDENTS_ATTENDED = 14"
   ]
  },
  {
   "cell_type": "markdown",
   "metadata": {},
   "source": [
    "#### 8. If one data type value is assigned to ‘a’ variable and then a different data type value is assigned to ‘a’ again. Will it change the value. If Yes then Why?"
   ]
  },
  {
   "cell_type": "markdown",
   "metadata": {},
   "source": [
    "\n",
    "Yes,\n",
    "\n",
    "If the statement creates a variable named “a” and assigns it a value,  Python Interpreter encounter statements does following things behind it.\n",
    "1.\tStore the variable value somewhere in the memory.\n",
    "2.\tMake variable “a” refer to it.\n",
    "\n",
    "The important thing to understand here is that variable “a” itself doesn't contain any value, it only refers to a memory location which contains the actual value.\n",
    "\n",
    "Python automatically detects the type of the variable and operations that can be performed on it based on the type of the value it contains. This behavior is known as Dynamic Typing. It means that we could use the same variable to refer to a data of completely different type than it initially points to"
   ]
  }
 ],
 "metadata": {
  "kernelspec": {
   "display_name": "Python 3",
   "language": "python",
   "name": "python3"
  },
  "language_info": {
   "codemirror_mode": {
    "name": "ipython",
    "version": 3
   },
   "file_extension": ".py",
   "mimetype": "text/x-python",
   "name": "python",
   "nbconvert_exporter": "python",
   "pygments_lexer": "ipython3",
   "version": "3.7.6"
  }
 },
 "nbformat": 4,
 "nbformat_minor": 4
}
